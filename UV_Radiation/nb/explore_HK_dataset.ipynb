{
 "cells": [
  {
   "cell_type": "code",
   "execution_count": 1,
   "metadata": {
    "collapsed": true
   },
   "outputs": [],
   "source": [
    "import pandas as pd\n",
    "import scipy.stats as sps\n",
    "import seaborn as sns\n",
    "import matplotlib.pyplot as plt\n",
    "from mpl_toolkits.mplot3d import Axes3D  # noqa: F401 unused import\n",
    "\n",
    "\n",
    "def corrfunc(x, y, **kws):\n",
    "    (r, p) = sps.pearsonr(x, y)\n",
    "    ax = plt.gca()\n",
    "    ax.annotate(\"r = {:.2f}\".format(r),\n",
    "                xy=(.1, .9), xycoords=ax.transAxes)\n",
    "    ax.annotate(\"p = {:.3f}\".format(p),\n",
    "                xy=(.4, .9), xycoords=ax.transAxes)\n",
    "    \n"
   ]
  },
  {
   "cell_type": "code",
   "execution_count": 2,
   "metadata": {
    "collapsed": true
   },
   "outputs": [],
   "source": [
    "df = pd.read_excel(r'./data/HK/HK_WQ.xlsx', sheetname = 'Raw', skiprows = 1)\n",
    "df.set_index('ID', inplace = True)\n",
    "\n",
    "subs = ['Dissolved Oxygen (mg/L)',\n",
    " '5-day Biochemical Oxygen Demand (mg/L)',\n",
    " 'E. coli (cfu/100mL)',\n",
    " 'Suspended Solids (mg/L)',\n",
    " 'Chlorophyll-a (μg/L)',\n",
    " 'pH',\n",
    " 'Salinity (psu)',\n",
    " 'Silica (mg/L)',\n",
    " 'Temperature (°C)',\n",
    " 'Turbidity (NTU)',\n",
    " 'Total Phosphorus (mg/L)',\n",
    " 'Total Nitrogen (mg/L)',\n",
    " 'Season']\n",
    "\n",
    "interest = {'zones' : None,\n",
    "            'stations' : None,\n",
    "            'depths' : None,\n",
    "            'params' : subs}"
   ]
  },
  {
   "cell_type": "code",
   "execution_count": null,
   "metadata": {
    "collapsed": true
   },
   "outputs": [],
   "source": [
    "if interest['zones'] is not None:\n",
    "    zones = interest['zones']\n",
    "else:\n",
    "    zones = df['Water Control Zone'].unique()\n",
    "    \n",
    "if interest['stations'] is not None:\n",
    "    stations = interest['stations']\n",
    "else:\n",
    "    stations = df['Station'].unique()\n",
    "\n",
    "if interest['depths'] is not None:\n",
    "    depths = interest['depths']\n",
    "else:\n",
    "    depths = df['Depth'].unique()\n",
    "    \n",
    "if interest['params'] is not None:\n",
    "    params = interest['params']\n",
    "else:\n",
    "    params = df.columns[5:]"
   ]
  },
  {
   "cell_type": "code",
   "execution_count": null,
   "metadata": {
    "collapsed": true
   },
   "outputs": [],
   "source": [
    "dfl = df[(df['Station'] == 'WM1') & (df['Depth'] == 'Surface Water')].drop('Unnamed: 30', axis = 1)[params]"
   ]
  },
  {
   "cell_type": "code",
   "execution_count": null,
   "metadata": {
    "collapsed": true
   },
   "outputs": [],
   "source": [
    "pr = sns.pairplot(dfl, hue = 'Season')"
   ]
  },
  {
   "cell_type": "code",
   "execution_count": null,
   "metadata": {},
   "outputs": [],
   "source": [
    "plt.scatter(df['Chlorophyll-a (μg/L)'], df['pH'])"
   ]
  },
  {
   "cell_type": "code",
   "execution_count": null,
   "metadata": {},
   "outputs": [],
   "source": [
    "plt.show()"
   ]
  },
  {
   "cell_type": "code",
   "execution_count": null,
   "metadata": {},
   "outputs": [],
   "source": [
    "dfl.isnull().sum()"
   ]
  },
  {
   "cell_type": "code",
   "execution_count": null,
   "metadata": {},
   "outputs": [],
   "source": [
    "df[params]"
   ]
  },
  {
   "cell_type": "code",
   "execution_count": null,
   "metadata": {
    "collapsed": true
   },
   "outputs": [],
   "source": []
  }
 ],
 "metadata": {
  "kernelspec": {
   "display_name": "Python 3",
   "language": "python",
   "name": "python3"
  },
  "language_info": {
   "codemirror_mode": {
    "name": "ipython",
    "version": 3
   },
   "file_extension": ".py",
   "mimetype": "text/x-python",
   "name": "python",
   "nbconvert_exporter": "python",
   "pygments_lexer": "ipython3",
   "version": "3.6.3"
  }
 },
 "nbformat": 4,
 "nbformat_minor": 2
}
